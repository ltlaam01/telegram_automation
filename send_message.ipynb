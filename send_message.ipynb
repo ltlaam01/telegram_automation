{
 "cells": [
  {
   "cell_type": "code",
   "execution_count": null,
   "metadata": {},
   "outputs": [],
   "source": [
    "import requests\n",
    "import json\n",
    "\n",
    "bot_token = ''\n",
    "\n",
    "# URL for the getUpdates method\n",
    "url = f'https://api.telegram.org/bot{bot_token}/getUpdates'\n",
    "\n",
    "# Sending the request to get updates\n",
    "response = requests.get(url)\n",
    "\n",
    "# Checking the response\n",
    "if response.status_code == 200:\n",
    "    updates = response.json()\n",
    "\n",
    "    # Printing updates to find the sticker file ID\n",
    "    chat_id = updates[\"result\"][3][\"message\"][\"chat\"][\"id\"]\n",
    "    sticker_file_id = updates[\"result\"][1][\"message\"][\"sticker\"][\"file_id\"]\n",
    "    user_id = updates[\"result\"][3][\"message\"][\"from\"][\"id\"]\n",
    "\n",
    "    results = {\"chat_id\":chat_id, \"sticker_file_id\":sticker_file_id, \"user_id\":user_id}\n",
    "    print(results)\n",
    "else:\n",
    "    print('Failed to get updates:', response.text)\n"
   ]
  },
  {
   "cell_type": "code",
   "execution_count": 30,
   "metadata": {},
   "outputs": [
    {
     "name": "stdout",
     "output_type": "stream",
     "text": [
      "Mention message sent successfully!\n",
      "Sticker sent successfully!\n"
     ]
    }
   ],
   "source": [
    "import requests\n",
    "\n",
    "bot_token = ''\n",
    "\n",
    "chat_id = \n",
    "\n",
    "sticker_file_id = ''\n",
    "\n",
    "user_id = \n",
    "\n",
    "message = f\"Hey [user](tg://user?id={user_id}), send you a sticker!\"\n",
    "\n",
    "\n",
    "# URL for the sendMessage method\n",
    "send_message_url = f'https://api.telegram.org/bot{bot_token}/sendMessage'\n",
    "# Payload for the sendMessage request\n",
    "send_message_payload = {\n",
    "    'chat_id': chat_id,\n",
    "    'text': message,\n",
    "    'parse_mode': 'Markdown'\n",
    "}\n",
    "\n",
    "# Sending the mention message\n",
    "send_message_response = requests.post(send_message_url, data=send_message_payload)\n",
    "\n",
    "if send_message_response.status_code == 200:\n",
    "    print('Mention message sent successfully!')\n",
    "    \n",
    "    # URL for the sendSticker method\n",
    "    send_sticker_url = f'https://api.telegram.org/bot{bot_token}/sendSticker'\n",
    "    # Payload for the sendSticker request\n",
    "    send_sticker_payload = {\n",
    "        'chat_id': chat_id,\n",
    "        'sticker': sticker_file_id\n",
    "    }\n",
    "\n",
    "    # Sending the sticker\n",
    "    send_sticker_response = requests.post(send_sticker_url, data=send_sticker_payload)\n",
    "\n",
    "    if send_sticker_response.status_code == 200:\n",
    "        print('Sticker sent successfully!')\n",
    "    else:\n",
    "        print('Failed to send sticker:', send_sticker_response.text)\n",
    "else:\n",
    "    print('Failed to send mention message:', send_message_response.text)\n"
   ]
  }
 ],
 "metadata": {
  "kernelspec": {
   "display_name": "Python 3",
   "language": "python",
   "name": "python3"
  },
  "language_info": {
   "codemirror_mode": {
    "name": "ipython",
    "version": 3
   },
   "file_extension": ".py",
   "mimetype": "text/x-python",
   "name": "python",
   "nbconvert_exporter": "python",
   "pygments_lexer": "ipython3",
   "version": "3.10.14"
  }
 },
 "nbformat": 4,
 "nbformat_minor": 2
}
